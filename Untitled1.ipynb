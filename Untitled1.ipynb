{
  "nbformat": 4,
  "nbformat_minor": 0,
  "metadata": {
    "colab": {
      "provenance": []
    },
    "kernelspec": {
      "name": "python3",
      "display_name": "Python 3"
    },
    "language_info": {
      "name": "python"
    }
  },
  "cells": [
    {
      "cell_type": "code",
      "execution_count": 15,
      "metadata": {
        "colab": {
          "base_uri": "https://localhost:8080/"
        },
        "id": "MoMlan3IWJN8",
        "outputId": "cd3e3d97-9a9c-4dc6-b6aa-29057c60566a"
      },
      "outputs": [
        {
          "output_type": "stream",
          "name": "stdout",
          "text": [
            "--- Primeras 5 filas de los datos ---\n",
            "              name              city  income  credit_score  loan_amount  \\\n",
            "0     Allison Hill         East Jill  113810           389        39698   \n",
            "1     Brandon Hall     New Jamesside   44592           729        15446   \n",
            "2     Rhonda Smith      Lake Roberto   33278           584        11189   \n",
            "3  Gabrielle Davis  West Melanieview  127196           344        48823   \n",
            "4     Valerie Gray         Mariastad   66048           496        47174   \n",
            "\n",
            "   years_employed  points  loan_approved  \n",
            "0              27    50.0          False  \n",
            "1              28    55.0          False  \n",
            "2              13    45.0          False  \n",
            "3              29    50.0          False  \n",
            "4               4    25.0          False   \n",
            "\n",
            "--- ¿Cuántos datos faltan? ---\n",
            "name              0\n",
            "city              0\n",
            "income            0\n",
            "credit_score      0\n",
            "loan_amount       0\n",
            "years_employed    0\n",
            "points            0\n",
            "loan_approved     0\n",
            "dtype: int64 \n",
            "\n",
            "--- ¡Datos listos para usar! ---\n"
          ]
        }
      ],
      "source": [
        "# --- 1. Importación de herramientas necesarias ---\n",
        "\n",
        "# Se importa \"pandas\" para trabajar con los datos en formato de tabla.\n",
        "import pandas as pd\n",
        "\n",
        "# Se importa \"train_test_split\" para separar los datos en conjuntos.\n",
        "from sklearn.model_selection import train_test_split\n",
        "\n",
        "# --- 2. Carga del archivo de datos ---\n",
        "\n",
        "# Se lee el archivo \"loan_approval.csv\".\n",
        "df = pd.read_csv(\"loan_approval.csv\")\n",
        "\n",
        "# --- 3. Revisión de los datos (para el informe) ---\n",
        "\n",
        "# Se muestran las primeras 5 filas para entender la estructura de los datos.\n",
        "print(\"--- Primeras 5 filas de los datos ---\")\n",
        "print(df.head(), \"\\n\")\n",
        "\n",
        "# Se cuentan cuántos datos faltan en cada columna.\n",
        "print(\"--- ¿Cuántos datos faltan? ---\")\n",
        "print(df.isnull().sum(), \"\\n\")\n",
        "\n",
        "# --- 4. Preparación de los datos para el análisis ---\n",
        "\n",
        "# Se define \"X\" (las características) con las columnas que se usarán para predecir.\n",
        "X = df[['income', 'credit_score', 'loan_amount', 'years_employed', 'points']]\n",
        "\n",
        "# Se define \"y\" (la variable objetivo) que es lo que se quiere predecir.\n",
        "# Se convierten los valores True/False a 1/0 para que el modelo los entienda.\n",
        "y = df['loan_approved'].astype(int)\n",
        "\n",
        "# --- 5. División de los datos para entrenamiento y prueba ---\n",
        "\n",
        "# Se separan los datos en conjuntos de entrenamiento (para que el modelo aprenda)\n",
        "# y prueba (para evaluar su rendimiento).\n",
        "# Se usa el 25% de los datos para probar (test_size=0.25).\n",
        "# random_state=42 asegura que la división sea la misma en cada ejecución.\n",
        "X_train, X_test, y_train, y_test = train_test_split(X, y, test_size=0.25, random_state=42)\n",
        "\n",
        "print(\"--- ¡Datos listos para usar! ---\")"
      ]
    },
    {
      "cell_type": "code",
      "source": [
        "# --- 1. Importación del Modelo 1 y las Métricas ---\n",
        "\n",
        "# Se importa el modelo de Regresión Logística\n",
        "from sklearn.linear_model import LogisticRegression\n",
        "\n",
        "# Se importan las herramientas para evaluar el modelo\n",
        "from sklearn.metrics import accuracy_score, confusion_matrix, classification_report\n",
        "\n",
        "# --- 2. Creación y Entrenamiento del Modelo 1 ---\n",
        "\n",
        "# Se crea una instancia del modelo. max_iter=1000 se usa para aumentar las iteraciones.\n",
        "modelo_log = LogisticRegression(max_iter=1000)\n",
        "\n",
        "# Se \"entrena\" el modelo utilizando los datos de entrenamiento (X_train, y_train).\n",
        "modelo_log.fit(X_train, y_train)\n",
        "\n",
        "# --- 3. Evaluación del Modelo 1 ---\n",
        "\n",
        "# Se solicitan las predicciones del modelo para los datos de prueba (X_test).\n",
        "y_pred_log = modelo_log.predict(X_test)\n",
        "\n",
        "# --- 4. Mostrar los Resultados (Para el informe) ---\n",
        "\n",
        "print(\"--- RESULTADOS: Regresión Logística ---\")\n",
        "\n",
        "# La Precisión (Accuracy) compara las respuestas correctas (y_test) con las predicciones (y_pred_log).\n",
        "# Indica el porcentaje de aciertos.\n",
        "print(\"Precisión:\", accuracy_score(y_test, y_pred_log))\n",
        "\n",
        "# La Matriz de Confusión muestra cuántos \"Sí\" y \"No\" fueron predichos correctamente.\n",
        "print(\"\\nMatriz de Confusión:\\n\", confusion_matrix(y_test, y_pred_log))\n",
        "\n",
        "# El Reporte de Clasificación proporciona un resumen detallado de las métricas.\n",
        "print(\"\\nReporte de Clasificación:\\n\", classification_report(y_test, y_pred_log))"
      ],
      "metadata": {
        "colab": {
          "base_uri": "https://localhost:8080/"
        },
        "id": "GHPo6S2PXMVI",
        "outputId": "cf22f8dd-0b32-418d-80db-e417bd86df1f"
      },
      "execution_count": 16,
      "outputs": [
        {
          "output_type": "stream",
          "name": "stdout",
          "text": [
            "--- RESULTADOS: Regresión Logística ---\n",
            "Precisión: 1.0\n",
            "\n",
            "Matriz de Confusión:\n",
            " [[278   0]\n",
            " [  0 222]]\n",
            "\n",
            "Reporte de Clasificación:\n",
            "               precision    recall  f1-score   support\n",
            "\n",
            "           0       1.00      1.00      1.00       278\n",
            "           1       1.00      1.00      1.00       222\n",
            "\n",
            "    accuracy                           1.00       500\n",
            "   macro avg       1.00      1.00      1.00       500\n",
            "weighted avg       1.00      1.00      1.00       500\n",
            "\n"
          ]
        }
      ]
    },
    {
      "cell_type": "code",
      "source": [
        "# --- 1. Importar el Modelo 2 ---\n",
        "\n",
        "# Esta vez, se importa el \"Árbol de Decisión\"\n",
        "from sklearn.tree import DecisionTreeClassifier\n",
        "\n",
        "# ¡No hace falta importar las métricas otra vez, ya se tienen!\n",
        "\n",
        "# --- 2. Crear y Entrenar el Modelo 2 ---\n",
        "\n",
        "# Se crea una instancia del nuevo modelo\n",
        "modelo_tree = DecisionTreeClassifier()\n",
        "\n",
        "# Se \"entrena\" con los MISMOS datos de entrenamiento (X_train, y_train)\n",
        "# Esto es CLAVE para poder compararlos\n",
        "modelo_tree.fit(X_train, y_train)\n",
        "\n",
        "# --- 3. Evaluar el Modelo 2 ---\n",
        "\n",
        "# Se le pide a ESTE modelo que prediga las respuestas para los MISMOS datos de \"Prueba\" (X_test)\n",
        "y_pred_tree = modelo_tree.predict(X_test)\n",
        "\n",
        "# --- 4. Mostrar los Resultados (¡Esto también va en tu informe!) ---\n",
        "\n",
        "print(\"--- RESULTADOS: Árbol de Decisión ---\")\n",
        "\n",
        "# Se calcula la Precisión para ESTE modelo\n",
        "print(\"Precisión:\", accuracy_score(y_test, y_pred_tree))\n",
        "\n",
        "# Se calcula la Matriz de Confusión para ESTE modelo\n",
        "print(\"\\nMatriz de Confusión:\\n\", confusion_matrix(y_test, y_pred_tree))\n",
        "\n",
        "# Reporte de Clasificación para ESTE modelo\n",
        "print(\"\\nReporte de Clasificación:\\n\", classification_report(y_test, y_pred_tree))"
      ],
      "metadata": {
        "colab": {
          "base_uri": "https://localhost:8080/"
        },
        "id": "v1tApWv_XcKa",
        "outputId": "54a1b369-6b2f-47be-fb6d-469c05a2e7c8"
      },
      "execution_count": 17,
      "outputs": [
        {
          "output_type": "stream",
          "name": "stdout",
          "text": [
            "--- RESULTADOS: Árbol de Decisión ---\n",
            "Precisión: 1.0\n",
            "\n",
            "Matriz de Confusión:\n",
            " [[278   0]\n",
            " [  0 222]]\n",
            "\n",
            "Reporte de Clasificación:\n",
            "               precision    recall  f1-score   support\n",
            "\n",
            "           0       1.00      1.00      1.00       278\n",
            "           1       1.00      1.00      1.00       222\n",
            "\n",
            "    accuracy                           1.00       500\n",
            "   macro avg       1.00      1.00      1.00       500\n",
            "weighted avg       1.00      1.00      1.00       500\n",
            "\n"
          ]
        }
      ]
    }
  ]
}